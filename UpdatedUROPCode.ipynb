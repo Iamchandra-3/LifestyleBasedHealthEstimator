{
  "nbformat": 4,
  "nbformat_minor": 0,
  "metadata": {
    "colab": {
      "provenance": []
    },
    "kernelspec": {
      "name": "python3",
      "display_name": "Python 3"
    },
    "language_info": {
      "name": "python"
    }
  },
  "cells": [
    {
      "cell_type": "code",
      "execution_count": 1,
      "metadata": {
        "id": "THLdhJHbRdnm"
      },
      "outputs": [],
      "source": [
        "# Import required packages\n",
        "import pandas as pd\n",
        "import numpy as np\n",
        "import matplotlib.pyplot as plt\n",
        "from sklearn.model_selection import train_test_split, cross_val_score\n",
        "from sklearn.preprocessing import StandardScaler\n",
        "from sklearn.linear_model import LogisticRegression\n",
        "from sklearn.naive_bayes import GaussianNB\n",
        "from sklearn.ensemble import RandomForestClassifier\n",
        "from sklearn.metrics import confusion_matrix, accuracy_score, precision_score, recall_score, f1_score"
      ]
    },
    {
      "cell_type": "code",
      "source": [
        "from google.colab import drive\n",
        "drive.mount('/content/drive')"
      ],
      "metadata": {
        "colab": {
          "base_uri": "https://localhost:8080/"
        },
        "id": "G7my5K1n4aCW",
        "outputId": "45eb8536-77ef-40a7-cd68-2651c73883b2"
      },
      "execution_count": 2,
      "outputs": [
        {
          "output_type": "stream",
          "name": "stdout",
          "text": [
            "Drive already mounted at /content/drive; to attempt to forcibly remount, call drive.mount(\"/content/drive\", force_remount=True).\n"
          ]
        }
      ]
    },
    {
      "cell_type": "code",
      "source": [
        "#reading dataset\n",
        "df = pd.read_csv(\"/content/drive/MyDrive/updatedDataset.csv\")"
      ],
      "metadata": {
        "id": "238WbBk4uVps"
      },
      "execution_count": 3,
      "outputs": []
    },
    {
      "cell_type": "code",
      "source": [
        "#Encoding categorical data to numerical data\n",
        "# def repl():\n",
        "df['How old are you?'].replace(['Below 15','15-20', '20-30', '30-40', '40-60','Above 60'],[0,1,2,3,4,5],inplace=True)\n",
        "df['What is your height (in cms)?'].replace(['Under 130 ', '130-140', '140-150', '150-160', '160-170','Above 170'],[0,1,2,3,4,5],inplace=True)\n",
        "df['What is your gender?'].replace(['Female', 'Male','Prefer not to say'],[0,1,2],inplace=True)\n",
        "df['Do you smoke?'].replace(['Yes', 'No'],[0,1],inplace=True)\n",
        "df['Do you feel difficult to breathe after a small physical activity?  '].replace(['Yes', 'No'],[0,1],inplace=True)\n",
        "df['Do you have a habit of walking after having dinner?'].replace([ 'Yes', 'No'],[0,1],inplace=True)\n",
        "df['Apart from work, do you involve in any physical activity daily? (Gym, sports, etc)'].replace(['Yes', 'No'],[0,1],inplace=True)\n",
        "df['Do you follow circadian rhythm ? ( with sleep cycle of 10pm - 7am ) '].replace(['Yes', 'No'],[0,1],inplace=True)\n",
        "df['Do you have a regular bedtime and wake-up time?'].replace(['Yes', 'No'],[0,1],inplace=True)\n",
        "df['Do you have a habit of overthinking?'].replace(['Yes', 'No'])\n",
        "df['Is it possible to you to focus on one aspect without being distracted?'].replace(['Yes', 'No'],[0,1],inplace=True)\n",
        "df['Are you mindful when you work?'].replace(['Yes','No'],[0,1],inplace=True)\n",
        "df['How many liters of water do you intake per day?'].replace(['1-3 litres', '3-6 litres', 'Above 6 litres'],[0,1,2],inplace=True)\n",
        "df['How many steps you walk per day?'].replace(['less than 5000','5000 - 10000', 'more than 10000'],[0,1,2],inplace=True)\n",
        "df['How much do you weigh (in kgs)?'].replace(['Under 40', '40-50', '50-60', '60-75', 'Above 75'],[0,1,2,3,4],inplace=True)\n",
        "df['What is your regular breakfast time?'].replace(['Before 8 am', '8-9 am', '9-10 am', 'After 10 am', 'Skip the breakfast'],[0,1,2,3,4],inplace=True)\n",
        "df['What is your regular lunch time?'].replace(['11am -1 pm', '1-2 pm', '2-3 pm', 'After 3 pm', 'Skip the lunch'],[0,1,2,3,4],inplace=True)\n",
        "df['What is your regular dinner time?'].replace(['6-7 pm', '7-8 pm', '8-10 pm', 'After 10 pm', 'Skip the dinner'],[0,1,2,3,4],inplace=True)\n",
        "df['How do you rate your sleep quality?'].replace(['1', '2', '3', '4', '5'],[0,1,2,3,4],inplace=True)\n",
        "df['Rate your stress levels'].replace(['1', '2', '3', '4', '5'],[0,1,2,3,4],inplace=True)\n",
        "df['How often do you forget important things?'].replace(['1','2','3','4','5'],[0,1,2,3,4],inplace=True)\n",
        "df['How often do you get angry?'].replace(['1','2','3','4','5'],[0,1,2,3,4],inplace=True)\n",
        "df['How often do you do breathing exercises (Pranayama) / Yoga?  '].replace(['Daily', 'Weekly', '15 days', 'Never'],[0,1,2,3],inplace=True)\n",
        "df['How often will you eat junk food in a week?'].replace([ 'No junk / Rarely', '2-3 times','3-5 times', 'More than 5 times / Every day'],[0,1,2,3],inplace=True)\n",
        "df['How often do you include fruits and vegetables in your meals?'].replace(['more than 7 times per week',  'Daily once', 'Every alternate day', 'Never/Rarely'],[0,1,2,3],inplace=True)\n",
        "df['On a regular working day, for how many hours do you sit idle without any physical activity?'].replace(['Below 1 hour','1-3 hours','3-6 hours', 'More than 6 hours'],[0,1,2,3],inplace=True)\n",
        "df['How long do you sleep in a day?'].replace(['4-6 hours', '6-8 hours', '8-10 hours', 'Above 10 hours'],[0,1,2,3],inplace=True)\n",
        "df['When do you go to bed at night?'].replace(['8pm - 9pm', '9pm - 10pm', '10pm - 11pm', 'After 11pm'],[0,1,2,3],inplace=True)\n",
        "df['What is the average time it takes you to fall asleep?'].replace(['10-20 minutes', '20 - 40 minutes','40-60 minutes',  'More than 1 hour'],[0,1,2,3],inplace=True)\n",
        "\n",
        "\n",
        "# print(df)"
      ],
      "metadata": {
        "id": "cWl2522TudlX"
      },
      "execution_count": 4,
      "outputs": []
    },
    {
      "cell_type": "code",
      "source": [
        "# Check for any null values in the dataset\n",
        "df.isnull().any()"
      ],
      "metadata": {
        "colab": {
          "base_uri": "https://localhost:8080/"
        },
        "id": "MMYgVG7Juh6D",
        "outputId": "4cdb45dd-27fa-477d-8c0d-1435dd6f54fa"
      },
      "execution_count": 5,
      "outputs": [
        {
          "output_type": "execute_result",
          "data": {
            "text/plain": [
              "How old are you?                                                                               False\n",
              "What is your gender?                                                                           False\n",
              "How much do you weigh (in kgs)?                                                                False\n",
              "What is your height (in cms)?                                                                  False\n",
              "How often do you do breathing exercises (Pranayama) / Yoga?                                    False\n",
              "Do you smoke?                                                                                  False\n",
              "Do you feel difficult to breathe after a small physical activity?                              False\n",
              "What is your regular breakfast time?                                                           False\n",
              "What is your regular lunch time?                                                               False\n",
              "What is your regular dinner time?                                                              False\n",
              "How often will you eat junk food in a week?                                                    False\n",
              "How often do you include fruits and vegetables in your meals?                                  False\n",
              "How many liters of water do you intake per day?                                                False\n",
              "How many steps you walk per day?                                                               False\n",
              "On a regular working day, for how many hours do you sit idle without any physical activity?    False\n",
              "Do you have a habit of walking after having dinner?                                            False\n",
              "Apart from work, do you involve in any physical activity daily? (Gym, sports, etc)             False\n",
              "How long do you sleep in a day?                                                                False\n",
              "When do you go to bed at night?                                                                False\n",
              "Do you follow circadian rhythm ? ( with sleep cycle of 10pm - 7am )                            False\n",
              "Do you have a regular bedtime and wake-up time?                                                False\n",
              "What is the average time it takes you to fall asleep?                                          False\n",
              "How do you rate your sleep quality?                                                            False\n",
              "Rate your stress levels                                                                        False\n",
              "Do you have a habit of overthinking?                                                           False\n",
              "Is it possible to you to focus on one aspect without being distracted?                         False\n",
              "Are you mindful when you work?                                                                 False\n",
              "How often do you forget important things?                                                      False\n",
              "How often do you get angry?                                                                    False\n",
              "Score                                                                                          False\n",
              "dtype: bool"
            ]
          },
          "metadata": {},
          "execution_count": 5
        }
      ]
    },
    {
      "cell_type": "code",
      "source": [
        "# Round float values and assign dependent and independent variables\n",
        "df.iloc[:, -2:-1] = round(df.iloc[:, -2:-1])\n",
        "x = df.iloc[:, 0:-1].values\n",
        "y = df.iloc[:, -1:].values\n",
        "y = np.round(y)"
      ],
      "metadata": {
        "id": "kxTceGimunHA"
      },
      "execution_count": 6,
      "outputs": []
    },
    {
      "cell_type": "code",
      "source": [
        "# Add a new attribute/column as Status (Binary) to determine healthy(1) or not(0)\n",
        "status = [1 if i >= 3 else 0 for z in y for i in z]\n",
        "status = np.reshape(status, (452, 1))\n",
        "df['Status'] = status"
      ],
      "metadata": {
        "id": "qLIHfqubuswO"
      },
      "execution_count": 7,
      "outputs": []
    },
    {
      "cell_type": "code",
      "source": [
        "# Update the assigned dependent and independent variables\n",
        "x = df.iloc[:, :-1]\n",
        "y = df.iloc[:, 30:32]"
      ],
      "metadata": {
        "id": "_2z7O9w5uwD_"
      },
      "execution_count": 8,
      "outputs": []
    },
    {
      "cell_type": "code",
      "source": [
        "# Splitting test(25%) and train(75%)\n",
        "X_train, X_test, y_train, y_test = train_test_split(x, y, test_size=0.25, random_state=0)"
      ],
      "metadata": {
        "id": "CKzm21jFu0iP"
      },
      "execution_count": 9,
      "outputs": []
    },
    {
      "cell_type": "code",
      "source": [
        "# Feature scaling\n",
        "sc = StandardScaler()\n",
        "X_train = sc.fit_transform(X_train)\n",
        "X_test = sc.transform(X_test)"
      ],
      "metadata": {
        "id": "UCbyR3Gju4OS"
      },
      "execution_count": 10,
      "outputs": []
    },
    {
      "cell_type": "code",
      "source": [
        "# Train a Logistic Regression model with cross-validation\n",
        "lr_classifier = LogisticRegression(random_state=0, solver='lbfgs', max_iter=1000,C=0.01)\n",
        "lr_scores = cross_val_score(lr_classifier, X_train, y_train.values.ravel(), cv=5, scoring='accuracy')\n",
        "lr_classifier.fit(X_train, y_train.values.ravel())"
      ],
      "metadata": {
        "colab": {
          "base_uri": "https://localhost:8080/",
          "height": 74
        },
        "id": "ExaxTJ2Iu9Wc",
        "outputId": "71a03be0-4340-411d-a637-3e4092f59997"
      },
      "execution_count": 11,
      "outputs": [
        {
          "output_type": "execute_result",
          "data": {
            "text/plain": [
              "LogisticRegression(C=0.01, max_iter=1000, random_state=0)"
            ],
            "text/html": [
              "<style>#sk-container-id-1 {color: black;background-color: white;}#sk-container-id-1 pre{padding: 0;}#sk-container-id-1 div.sk-toggleable {background-color: white;}#sk-container-id-1 label.sk-toggleable__label {cursor: pointer;display: block;width: 100%;margin-bottom: 0;padding: 0.3em;box-sizing: border-box;text-align: center;}#sk-container-id-1 label.sk-toggleable__label-arrow:before {content: \"▸\";float: left;margin-right: 0.25em;color: #696969;}#sk-container-id-1 label.sk-toggleable__label-arrow:hover:before {color: black;}#sk-container-id-1 div.sk-estimator:hover label.sk-toggleable__label-arrow:before {color: black;}#sk-container-id-1 div.sk-toggleable__content {max-height: 0;max-width: 0;overflow: hidden;text-align: left;background-color: #f0f8ff;}#sk-container-id-1 div.sk-toggleable__content pre {margin: 0.2em;color: black;border-radius: 0.25em;background-color: #f0f8ff;}#sk-container-id-1 input.sk-toggleable__control:checked~div.sk-toggleable__content {max-height: 200px;max-width: 100%;overflow: auto;}#sk-container-id-1 input.sk-toggleable__control:checked~label.sk-toggleable__label-arrow:before {content: \"▾\";}#sk-container-id-1 div.sk-estimator input.sk-toggleable__control:checked~label.sk-toggleable__label {background-color: #d4ebff;}#sk-container-id-1 div.sk-label input.sk-toggleable__control:checked~label.sk-toggleable__label {background-color: #d4ebff;}#sk-container-id-1 input.sk-hidden--visually {border: 0;clip: rect(1px 1px 1px 1px);clip: rect(1px, 1px, 1px, 1px);height: 1px;margin: -1px;overflow: hidden;padding: 0;position: absolute;width: 1px;}#sk-container-id-1 div.sk-estimator {font-family: monospace;background-color: #f0f8ff;border: 1px dotted black;border-radius: 0.25em;box-sizing: border-box;margin-bottom: 0.5em;}#sk-container-id-1 div.sk-estimator:hover {background-color: #d4ebff;}#sk-container-id-1 div.sk-parallel-item::after {content: \"\";width: 100%;border-bottom: 1px solid gray;flex-grow: 1;}#sk-container-id-1 div.sk-label:hover label.sk-toggleable__label {background-color: #d4ebff;}#sk-container-id-1 div.sk-serial::before {content: \"\";position: absolute;border-left: 1px solid gray;box-sizing: border-box;top: 0;bottom: 0;left: 50%;z-index: 0;}#sk-container-id-1 div.sk-serial {display: flex;flex-direction: column;align-items: center;background-color: white;padding-right: 0.2em;padding-left: 0.2em;position: relative;}#sk-container-id-1 div.sk-item {position: relative;z-index: 1;}#sk-container-id-1 div.sk-parallel {display: flex;align-items: stretch;justify-content: center;background-color: white;position: relative;}#sk-container-id-1 div.sk-item::before, #sk-container-id-1 div.sk-parallel-item::before {content: \"\";position: absolute;border-left: 1px solid gray;box-sizing: border-box;top: 0;bottom: 0;left: 50%;z-index: -1;}#sk-container-id-1 div.sk-parallel-item {display: flex;flex-direction: column;z-index: 1;position: relative;background-color: white;}#sk-container-id-1 div.sk-parallel-item:first-child::after {align-self: flex-end;width: 50%;}#sk-container-id-1 div.sk-parallel-item:last-child::after {align-self: flex-start;width: 50%;}#sk-container-id-1 div.sk-parallel-item:only-child::after {width: 0;}#sk-container-id-1 div.sk-dashed-wrapped {border: 1px dashed gray;margin: 0 0.4em 0.5em 0.4em;box-sizing: border-box;padding-bottom: 0.4em;background-color: white;}#sk-container-id-1 div.sk-label label {font-family: monospace;font-weight: bold;display: inline-block;line-height: 1.2em;}#sk-container-id-1 div.sk-label-container {text-align: center;}#sk-container-id-1 div.sk-container {/* jupyter's `normalize.less` sets `[hidden] { display: none; }` but bootstrap.min.css set `[hidden] { display: none !important; }` so we also need the `!important` here to be able to override the default hidden behavior on the sphinx rendered scikit-learn.org. See: https://github.com/scikit-learn/scikit-learn/issues/21755 */display: inline-block !important;position: relative;}#sk-container-id-1 div.sk-text-repr-fallback {display: none;}</style><div id=\"sk-container-id-1\" class=\"sk-top-container\"><div class=\"sk-text-repr-fallback\"><pre>LogisticRegression(C=0.01, max_iter=1000, random_state=0)</pre><b>In a Jupyter environment, please rerun this cell to show the HTML representation or trust the notebook. <br />On GitHub, the HTML representation is unable to render, please try loading this page with nbviewer.org.</b></div><div class=\"sk-container\" hidden><div class=\"sk-item\"><div class=\"sk-estimator sk-toggleable\"><input class=\"sk-toggleable__control sk-hidden--visually\" id=\"sk-estimator-id-1\" type=\"checkbox\" checked><label for=\"sk-estimator-id-1\" class=\"sk-toggleable__label sk-toggleable__label-arrow\">LogisticRegression</label><div class=\"sk-toggleable__content\"><pre>LogisticRegression(C=0.01, max_iter=1000, random_state=0)</pre></div></div></div></div></div>"
            ]
          },
          "metadata": {},
          "execution_count": 11
        }
      ]
    },
    {
      "cell_type": "code",
      "source": [
        "# Make predictions on the test set using Logistic Regression\n",
        "y_pred_lr = lr_classifier.predict(X_test)"
      ],
      "metadata": {
        "id": "7ec_VcZbvCXO"
      },
      "execution_count": 12,
      "outputs": []
    },
    {
      "cell_type": "code",
      "source": [
        "# Evaluate the Logistic Regression model\n",
        "cm_lr = confusion_matrix(y_test, y_pred_lr)\n",
        "accuracy_lr = accuracy_score(y_test, y_pred_lr)\n",
        "precision_lr = precision_score(y_test, y_pred_lr)\n",
        "recall_lr = recall_score(y_test, y_pred_lr)\n",
        "f1_lr = f1_score(y_test, y_pred_lr)"
      ],
      "metadata": {
        "id": "RkKtd1XIvKZo"
      },
      "execution_count": 13,
      "outputs": []
    },
    {
      "cell_type": "code",
      "source": [
        "# Train a Naive Bayes model\n",
        "nb_classifier = GaussianNB(var_smoothing=1e-5)  # Adjust var_smoothing\n",
        "nb_classifier.fit(X_train, y_train.values.ravel())\n"
      ],
      "metadata": {
        "colab": {
          "base_uri": "https://localhost:8080/",
          "height": 74
        },
        "id": "Dbry5otHvPwh",
        "outputId": "c1567567-71c3-45f9-ce20-d00982915631"
      },
      "execution_count": 14,
      "outputs": [
        {
          "output_type": "execute_result",
          "data": {
            "text/plain": [
              "GaussianNB(var_smoothing=1e-05)"
            ],
            "text/html": [
              "<style>#sk-container-id-2 {color: black;background-color: white;}#sk-container-id-2 pre{padding: 0;}#sk-container-id-2 div.sk-toggleable {background-color: white;}#sk-container-id-2 label.sk-toggleable__label {cursor: pointer;display: block;width: 100%;margin-bottom: 0;padding: 0.3em;box-sizing: border-box;text-align: center;}#sk-container-id-2 label.sk-toggleable__label-arrow:before {content: \"▸\";float: left;margin-right: 0.25em;color: #696969;}#sk-container-id-2 label.sk-toggleable__label-arrow:hover:before {color: black;}#sk-container-id-2 div.sk-estimator:hover label.sk-toggleable__label-arrow:before {color: black;}#sk-container-id-2 div.sk-toggleable__content {max-height: 0;max-width: 0;overflow: hidden;text-align: left;background-color: #f0f8ff;}#sk-container-id-2 div.sk-toggleable__content pre {margin: 0.2em;color: black;border-radius: 0.25em;background-color: #f0f8ff;}#sk-container-id-2 input.sk-toggleable__control:checked~div.sk-toggleable__content {max-height: 200px;max-width: 100%;overflow: auto;}#sk-container-id-2 input.sk-toggleable__control:checked~label.sk-toggleable__label-arrow:before {content: \"▾\";}#sk-container-id-2 div.sk-estimator input.sk-toggleable__control:checked~label.sk-toggleable__label {background-color: #d4ebff;}#sk-container-id-2 div.sk-label input.sk-toggleable__control:checked~label.sk-toggleable__label {background-color: #d4ebff;}#sk-container-id-2 input.sk-hidden--visually {border: 0;clip: rect(1px 1px 1px 1px);clip: rect(1px, 1px, 1px, 1px);height: 1px;margin: -1px;overflow: hidden;padding: 0;position: absolute;width: 1px;}#sk-container-id-2 div.sk-estimator {font-family: monospace;background-color: #f0f8ff;border: 1px dotted black;border-radius: 0.25em;box-sizing: border-box;margin-bottom: 0.5em;}#sk-container-id-2 div.sk-estimator:hover {background-color: #d4ebff;}#sk-container-id-2 div.sk-parallel-item::after {content: \"\";width: 100%;border-bottom: 1px solid gray;flex-grow: 1;}#sk-container-id-2 div.sk-label:hover label.sk-toggleable__label {background-color: #d4ebff;}#sk-container-id-2 div.sk-serial::before {content: \"\";position: absolute;border-left: 1px solid gray;box-sizing: border-box;top: 0;bottom: 0;left: 50%;z-index: 0;}#sk-container-id-2 div.sk-serial {display: flex;flex-direction: column;align-items: center;background-color: white;padding-right: 0.2em;padding-left: 0.2em;position: relative;}#sk-container-id-2 div.sk-item {position: relative;z-index: 1;}#sk-container-id-2 div.sk-parallel {display: flex;align-items: stretch;justify-content: center;background-color: white;position: relative;}#sk-container-id-2 div.sk-item::before, #sk-container-id-2 div.sk-parallel-item::before {content: \"\";position: absolute;border-left: 1px solid gray;box-sizing: border-box;top: 0;bottom: 0;left: 50%;z-index: -1;}#sk-container-id-2 div.sk-parallel-item {display: flex;flex-direction: column;z-index: 1;position: relative;background-color: white;}#sk-container-id-2 div.sk-parallel-item:first-child::after {align-self: flex-end;width: 50%;}#sk-container-id-2 div.sk-parallel-item:last-child::after {align-self: flex-start;width: 50%;}#sk-container-id-2 div.sk-parallel-item:only-child::after {width: 0;}#sk-container-id-2 div.sk-dashed-wrapped {border: 1px dashed gray;margin: 0 0.4em 0.5em 0.4em;box-sizing: border-box;padding-bottom: 0.4em;background-color: white;}#sk-container-id-2 div.sk-label label {font-family: monospace;font-weight: bold;display: inline-block;line-height: 1.2em;}#sk-container-id-2 div.sk-label-container {text-align: center;}#sk-container-id-2 div.sk-container {/* jupyter's `normalize.less` sets `[hidden] { display: none; }` but bootstrap.min.css set `[hidden] { display: none !important; }` so we also need the `!important` here to be able to override the default hidden behavior on the sphinx rendered scikit-learn.org. See: https://github.com/scikit-learn/scikit-learn/issues/21755 */display: inline-block !important;position: relative;}#sk-container-id-2 div.sk-text-repr-fallback {display: none;}</style><div id=\"sk-container-id-2\" class=\"sk-top-container\"><div class=\"sk-text-repr-fallback\"><pre>GaussianNB(var_smoothing=1e-05)</pre><b>In a Jupyter environment, please rerun this cell to show the HTML representation or trust the notebook. <br />On GitHub, the HTML representation is unable to render, please try loading this page with nbviewer.org.</b></div><div class=\"sk-container\" hidden><div class=\"sk-item\"><div class=\"sk-estimator sk-toggleable\"><input class=\"sk-toggleable__control sk-hidden--visually\" id=\"sk-estimator-id-2\" type=\"checkbox\" checked><label for=\"sk-estimator-id-2\" class=\"sk-toggleable__label sk-toggleable__label-arrow\">GaussianNB</label><div class=\"sk-toggleable__content\"><pre>GaussianNB(var_smoothing=1e-05)</pre></div></div></div></div></div>"
            ]
          },
          "metadata": {},
          "execution_count": 14
        }
      ]
    },
    {
      "cell_type": "code",
      "source": [
        "# Make predictions on the test set using Naive Bayes\n",
        "y_pred_nb = nb_classifier.predict(X_test)"
      ],
      "metadata": {
        "id": "12XTly6ow5Xa"
      },
      "execution_count": 15,
      "outputs": []
    },
    {
      "cell_type": "code",
      "source": [
        "# Evaluate the Naive Bayes model\n",
        "cm_nb = confusion_matrix(y_test, y_pred_nb)\n",
        "accuracy_nb = accuracy_score(y_test, y_pred_nb)\n",
        "precision_nb = precision_score(y_test, y_pred_nb)\n",
        "recall_nb = recall_score(y_test, y_pred_nb)\n",
        "f1_nb = f1_score(y_test, y_pred_nb)"
      ],
      "metadata": {
        "id": "gJVWXASCvU9X"
      },
      "execution_count": 16,
      "outputs": []
    },
    {
      "cell_type": "code",
      "source": [
        "# Train a Random Forest model\n",
        "rf_classifier = RandomForestClassifier(n_estimators=100, random_state=0)  # Adjust n_estimators\n",
        "rf_classifier.fit(X_train, y_train.values.ravel())"
      ],
      "metadata": {
        "colab": {
          "base_uri": "https://localhost:8080/",
          "height": 74
        },
        "id": "W_T0vKNp8nqq",
        "outputId": "3525b824-592d-48dc-b766-5516c878fd7a"
      },
      "execution_count": 17,
      "outputs": [
        {
          "output_type": "execute_result",
          "data": {
            "text/plain": [
              "RandomForestClassifier(random_state=0)"
            ],
            "text/html": [
              "<style>#sk-container-id-3 {color: black;background-color: white;}#sk-container-id-3 pre{padding: 0;}#sk-container-id-3 div.sk-toggleable {background-color: white;}#sk-container-id-3 label.sk-toggleable__label {cursor: pointer;display: block;width: 100%;margin-bottom: 0;padding: 0.3em;box-sizing: border-box;text-align: center;}#sk-container-id-3 label.sk-toggleable__label-arrow:before {content: \"▸\";float: left;margin-right: 0.25em;color: #696969;}#sk-container-id-3 label.sk-toggleable__label-arrow:hover:before {color: black;}#sk-container-id-3 div.sk-estimator:hover label.sk-toggleable__label-arrow:before {color: black;}#sk-container-id-3 div.sk-toggleable__content {max-height: 0;max-width: 0;overflow: hidden;text-align: left;background-color: #f0f8ff;}#sk-container-id-3 div.sk-toggleable__content pre {margin: 0.2em;color: black;border-radius: 0.25em;background-color: #f0f8ff;}#sk-container-id-3 input.sk-toggleable__control:checked~div.sk-toggleable__content {max-height: 200px;max-width: 100%;overflow: auto;}#sk-container-id-3 input.sk-toggleable__control:checked~label.sk-toggleable__label-arrow:before {content: \"▾\";}#sk-container-id-3 div.sk-estimator input.sk-toggleable__control:checked~label.sk-toggleable__label {background-color: #d4ebff;}#sk-container-id-3 div.sk-label input.sk-toggleable__control:checked~label.sk-toggleable__label {background-color: #d4ebff;}#sk-container-id-3 input.sk-hidden--visually {border: 0;clip: rect(1px 1px 1px 1px);clip: rect(1px, 1px, 1px, 1px);height: 1px;margin: -1px;overflow: hidden;padding: 0;position: absolute;width: 1px;}#sk-container-id-3 div.sk-estimator {font-family: monospace;background-color: #f0f8ff;border: 1px dotted black;border-radius: 0.25em;box-sizing: border-box;margin-bottom: 0.5em;}#sk-container-id-3 div.sk-estimator:hover {background-color: #d4ebff;}#sk-container-id-3 div.sk-parallel-item::after {content: \"\";width: 100%;border-bottom: 1px solid gray;flex-grow: 1;}#sk-container-id-3 div.sk-label:hover label.sk-toggleable__label {background-color: #d4ebff;}#sk-container-id-3 div.sk-serial::before {content: \"\";position: absolute;border-left: 1px solid gray;box-sizing: border-box;top: 0;bottom: 0;left: 50%;z-index: 0;}#sk-container-id-3 div.sk-serial {display: flex;flex-direction: column;align-items: center;background-color: white;padding-right: 0.2em;padding-left: 0.2em;position: relative;}#sk-container-id-3 div.sk-item {position: relative;z-index: 1;}#sk-container-id-3 div.sk-parallel {display: flex;align-items: stretch;justify-content: center;background-color: white;position: relative;}#sk-container-id-3 div.sk-item::before, #sk-container-id-3 div.sk-parallel-item::before {content: \"\";position: absolute;border-left: 1px solid gray;box-sizing: border-box;top: 0;bottom: 0;left: 50%;z-index: -1;}#sk-container-id-3 div.sk-parallel-item {display: flex;flex-direction: column;z-index: 1;position: relative;background-color: white;}#sk-container-id-3 div.sk-parallel-item:first-child::after {align-self: flex-end;width: 50%;}#sk-container-id-3 div.sk-parallel-item:last-child::after {align-self: flex-start;width: 50%;}#sk-container-id-3 div.sk-parallel-item:only-child::after {width: 0;}#sk-container-id-3 div.sk-dashed-wrapped {border: 1px dashed gray;margin: 0 0.4em 0.5em 0.4em;box-sizing: border-box;padding-bottom: 0.4em;background-color: white;}#sk-container-id-3 div.sk-label label {font-family: monospace;font-weight: bold;display: inline-block;line-height: 1.2em;}#sk-container-id-3 div.sk-label-container {text-align: center;}#sk-container-id-3 div.sk-container {/* jupyter's `normalize.less` sets `[hidden] { display: none; }` but bootstrap.min.css set `[hidden] { display: none !important; }` so we also need the `!important` here to be able to override the default hidden behavior on the sphinx rendered scikit-learn.org. See: https://github.com/scikit-learn/scikit-learn/issues/21755 */display: inline-block !important;position: relative;}#sk-container-id-3 div.sk-text-repr-fallback {display: none;}</style><div id=\"sk-container-id-3\" class=\"sk-top-container\"><div class=\"sk-text-repr-fallback\"><pre>RandomForestClassifier(random_state=0)</pre><b>In a Jupyter environment, please rerun this cell to show the HTML representation or trust the notebook. <br />On GitHub, the HTML representation is unable to render, please try loading this page with nbviewer.org.</b></div><div class=\"sk-container\" hidden><div class=\"sk-item\"><div class=\"sk-estimator sk-toggleable\"><input class=\"sk-toggleable__control sk-hidden--visually\" id=\"sk-estimator-id-3\" type=\"checkbox\" checked><label for=\"sk-estimator-id-3\" class=\"sk-toggleable__label sk-toggleable__label-arrow\">RandomForestClassifier</label><div class=\"sk-toggleable__content\"><pre>RandomForestClassifier(random_state=0)</pre></div></div></div></div></div>"
            ]
          },
          "metadata": {},
          "execution_count": 17
        }
      ]
    },
    {
      "cell_type": "code",
      "source": [
        "# Make predictions on the test set using Random Forest\n",
        "y_pred_rf = rf_classifier.predict(X_test)"
      ],
      "metadata": {
        "id": "kDep0VJ58sdm"
      },
      "execution_count": 18,
      "outputs": []
    },
    {
      "cell_type": "code",
      "source": [
        "# Evaluate the Random Forest model\n",
        "cm_rf = confusion_matrix(y_test, y_pred_rf)\n",
        "accuracy_rf = accuracy_score(y_test, y_pred_rf)\n",
        "precision_rf = precision_score(y_test, y_pred_rf)\n",
        "recall_rf = recall_score(y_test, y_pred_rf)\n",
        "f1_rf = f1_score(y_test, y_pred_rf)"
      ],
      "metadata": {
        "id": "lk50I5q18tqh"
      },
      "execution_count": 19,
      "outputs": []
    },
    {
      "cell_type": "code",
      "source": [
        "# Create a function to plot a bar chart for evaluation metrics comparison\n",
        "def plot_evaluation_metric(metric, scores_lr, scores_nb, scores_rf, model_names):\n",
        "    plt.figure(figsize=(10, 6))\n",
        "    plt.bar(model_names, [scores_lr, scores_nb, scores_rf], color=['blue', 'green', 'red'])\n",
        "    plt.title(metric)\n",
        "    plt.ylabel('Score')\n",
        "    plt.show()"
      ],
      "metadata": {
        "id": "dLbwZ594vbUk"
      },
      "execution_count": 20,
      "outputs": []
    },
    {
      "cell_type": "code",
      "source": [
        "# Print and plot evaluation metrics for all models\n",
        "metrics = ['Accuracy', 'Precision', 'Recall', 'F1 Score']\n",
        "model_names = ['Logistic Regression', 'Naive Bayes', 'Random Forest']"
      ],
      "metadata": {
        "id": "99x2P4sVvgrA"
      },
      "execution_count": 21,
      "outputs": []
    },
    {
      "cell_type": "code",
      "source": [
        "# Print evaluation metrics\n",
        "print(\"Logistic Regression Metrics:\")\n",
        "print(\"Confusion Matrix:\\n\", cm_lr)\n",
        "print(\"Accuracy:\", accuracy_lr)\n",
        "print(\"Precision:\", precision_lr)\n",
        "print(\"Recall:\", recall_lr)\n",
        "print(\"F1 Score:\", f1_lr)\n",
        "\n",
        "print(\"\\nNaive Bayes Metrics:\")\n",
        "print(\"Confusion Matrix:\\n\", cm_nb)\n",
        "print(\"Accuracy:\", accuracy_nb)\n",
        "print(\"Precision:\", precision_nb)\n",
        "print(\"Recall:\", recall_nb)\n",
        "print(\"F1 Score:\", f1_nb)\n",
        "\n",
        "print(\"\\nRandom Forest Metrics:\")\n",
        "print(\"Confusion Matrix:\\n\", cm_rf)\n",
        "print(\"Accuracy:\", accuracy_rf)\n",
        "print(\"Precision:\", precision_rf)\n",
        "print(\"Recall:\", recall_rf)\n",
        "print(\"F1 Score:\", f1_rf)"
      ],
      "metadata": {
        "colab": {
          "base_uri": "https://localhost:8080/"
        },
        "id": "6RCF6h0avkTt",
        "outputId": "7e61834f-e463-40eb-f646-bdb2ae3c9ce5"
      },
      "execution_count": 22,
      "outputs": [
        {
          "output_type": "stream",
          "name": "stdout",
          "text": [
            "Logistic Regression Metrics:\n",
            "Confusion Matrix:\n",
            " [[  0   9]\n",
            " [  0 104]]\n",
            "Accuracy: 0.9203539823008849\n",
            "Precision: 0.9203539823008849\n",
            "Recall: 1.0\n",
            "F1 Score: 0.9585253456221198\n",
            "\n",
            "Naive Bayes Metrics:\n",
            "Confusion Matrix:\n",
            " [[ 7  2]\n",
            " [33 71]]\n",
            "Accuracy: 0.6902654867256637\n",
            "Precision: 0.9726027397260274\n",
            "Recall: 0.6826923076923077\n",
            "F1 Score: 0.8022598870056497\n",
            "\n",
            "Random Forest Metrics:\n",
            "Confusion Matrix:\n",
            " [[  8   1]\n",
            " [  0 104]]\n",
            "Accuracy: 0.9911504424778761\n",
            "Precision: 0.9904761904761905\n",
            "Recall: 1.0\n",
            "F1 Score: 0.9952153110047847\n"
          ]
        }
      ]
    },
    {
      "cell_type": "code",
      "source": [
        "# Print and plot evaluation metrics for each metric\n",
        "for metric in metrics:\n",
        "    if metric == 'Accuracy':\n",
        "        scores_lr = accuracy_lr\n",
        "        scores_nb = accuracy_nb\n",
        "        scores_rf = accuracy_rf\n",
        "    elif metric == 'Precision':\n",
        "        scores_lr = precision_lr\n",
        "        scores_nb = precision_nb\n",
        "        scores_rf = precision_rf\n",
        "    elif metric == 'Recall':\n",
        "        scores_lr = recall_lr\n",
        "        scores_nb = recall_nb\n",
        "        scores_rf = recall_rf\n",
        "    elif metric == 'F1 Score':\n",
        "        scores_lr = f1_lr\n",
        "        scores_nb = f1_nb\n",
        "        scores_rf = f1_rf\n",
        "\n",
        "    print(f\"{metric} Metrics:\")\n",
        "    print(\"Logistic Regression:\", scores_lr)\n",
        "    print(\"Naive Bayes:\", scores_nb)\n",
        "    print(\"Random Forest:\", scores_rf)\n",
        "\n",
        "    # Plot evaluation metrics comparison for the current metric\n",
        "    plot_evaluation_metric(metric, scores_lr, scores_nb, scores_rf, model_names)"
      ],
      "metadata": {
        "colab": {
          "base_uri": "https://localhost:8080/",
          "height": 1000
        },
        "id": "tmf8Q9gvvpxp",
        "outputId": "8e6a3b32-3b3b-449b-cf60-95b51ed19643"
      },
      "execution_count": 23,
      "outputs": [
        {
          "output_type": "stream",
          "name": "stdout",
          "text": [
            "Accuracy Metrics:\n",
            "Logistic Regression: 0.9203539823008849\n",
            "Naive Bayes: 0.6902654867256637\n",
            "Random Forest: 0.9911504424778761\n"
          ]
        },
        {
          "output_type": "display_data",
          "data": {
            "text/plain": [
              "<Figure size 1000x600 with 1 Axes>"
            ],
            "image/png": "[encoded data removed]"
          },
          "metadata": {}
        },
        {
          "output_type": "stream",
          "name": "stdout",
          "text": [
            "Precision Metrics:\n",
            "Logistic Regression: 0.9203539823008849\n",
            "Naive Bayes: 0.9726027397260274\n",
            "Random Forest: 0.9904761904761905\n"
          ]
        },
        {
          "output_type": "display_data",
          "data": {
            "text/plain": [
              "<Figure size 1000x600 with 1 Axes>"
            ],
            "image/png": "[encoded data removed]"
          },
          "metadata": {}
        },
        {
          "output_type": "stream",
          "name": "stdout",
          "text": [
            "Recall Metrics:\n",
            "Logistic Regression: 1.0\n",
            "Naive Bayes: 0.6826923076923077\n",
            "Random Forest: 1.0\n"
          ]
        },
        {
          "output_type": "display_data",
          "data": {
            "text/plain": [
              "<Figure size 1000x600 with 1 Axes>"
            ],
            "image/png": "[encoded data removed]"
          },
          "metadata": {}
        },
        {
          "output_type": "stream",
          "name": "stdout",
          "text": [
            "F1 Score Metrics:\n",
            "Logistic Regression: 0.9585253456221198\n",
            "Naive Bayes: 0.8022598870056497\n",
            "Random Forest: 0.9952153110047847\n"
          ]
        },
        {
          "output_type": "display_data",
          "data": {
            "text/plain": [
              "<Figure size 1000x600 with 1 Axes>"
            ],
            "image/png": "[encoded data removed]"
          },
          "metadata": {}
        }
      ]
    },
    {
      "cell_type": "code",
      "source": [
        "# Plot evaluation metrics comparison\n",
        "# plot_evaluation_metrics(metrics, scores_lr, scores_nb, scores_rf, model_names)"
      ],
      "metadata": {
        "id": "BFtBDP0Kv04C"
      },
      "execution_count": 24,
      "outputs": []
    },
    {
      "cell_type": "code",
      "source": [
        "# Plot the decision tree for Logistic Regression\n",
        "# plot_lr_tree(lr_classifier)"
      ],
      "metadata": {
        "id": "9VfL5hc01uiA"
      },
      "execution_count": 25,
      "outputs": []
    }
  ]
}